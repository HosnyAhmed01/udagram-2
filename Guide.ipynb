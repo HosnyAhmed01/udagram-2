{
 "cells": [
  {
   "cell_type": "markdown",
   "metadata": {
    "editable": false
   },
   "source": [
    "## Submission Instructions\n",
    "\n",
    "- Provide the link to your hosted working Front-End Application in the README \n",
    "- Include a screenshot of your last build in CircleCi (either include screenshots in the GitHub repo or upload into the Workspace)\n",
    "- Include screenshots of the configuration page of your AWS services  (either include screenshots in the GitHub repo or upload into the Workspace)\n",
    "\n",
    "## Instructions Summary\n",
    "\n",
    "In order to complete the project you will need to do the following:\n",
    "\n",
    "* Provision the necessary AWS services your app needs\n",
    "* Deploy your application to those services\n",
    "* Connect your GitHub repo to CircleCi\n",
    "* Configure a CircleCi pipeline to automate your deployments\n",
    "* Document the infrastructure needs (RDS, S3 Elastic Beanstalk, etc) and explain the different steps in the pipeline\n",
    "* Create architecture diagrams for an overview of the infrastructure and the pipeline\n",
    "\n",
    "Your project final project should include the following files and folders:\n",
    "\n",
    "* .circleci/config.yml \n",
    "* a root level package.json \n",
    "* a Readme with some basic documentation\n",
    "* a docs folder to include architecture diagram and more detailed documentation files (MD format) on infrastructure description, app dependencies, and pipeline process"
   ]
  },
  {
   "cell_type": "markdown",
   "metadata": {
    "editable": false,
    "ulab": {
     "buttons": {
      "ulab-button-b45c859f": {
       "bashCommand": "source setup_node.sh",
       "filesToOpen": [],
       "isPreviewButton": false,
       "runInBackground": false,
       "style": "primary",
       "text": "SET UP WORKSPACE",
       "toggleOffText": "HIDE SOLUTION",
       "toggleOnText": "SHOW SOLUTION"
      }
     }
    }
   },
   "source": [
    "<button id=\"ulab-button-b45c859f\" class=\"ulab-btn--primary\"></button>"
   ]
  },
  {
   "cell_type": "markdown",
   "metadata": {
    "editable": false
   },
   "source": [
    "<!--\n",
    "%%ulab_page_divider\n",
    "--><hr/>"
   ]
  },
  {
   "cell_type": "markdown",
   "metadata": {
    "editable": false
   },
   "source": [
    "### Using the Udagram starter code\n",
    "\n",
    "A workspace has been set up for you with the necessary tools and the Udagram starter application. If you plan to use Udagram, make sure to connect this folder to a GitHub repository.\n",
    "\n",
    "**Be sure to confirm that your project runs locally before you try to deploy the app.**"
   ]
  },
  {
   "cell_type": "markdown",
   "metadata": {
    "editable": false,
    "ulab": {
     "buttons": {
      "ulab-button-29be98dd": {
       "bashCommand": "cd /home/workspace/udagram/udagram-frontend && npm install && npm run start",
       "filesToOpen": [],
       "isPreviewButton": false,
       "runInBackground": false,
       "style": "primary",
       "text": "START ANGULAR",
       "toggleOffText": "HIDE SOLUTION",
       "toggleOnText": "SHOW SOLUTION"
      },
      "ulab-button-34c8e873": {
       "bashCommand": "",
       "filesToOpen": [],
       "isPreviewButton": true,
       "runInBackground": false,
       "style": "primary",
       "text": "OPEN APP",
       "toggleOffText": "HIDE SOLUTION",
       "toggleOnText": "SHOW SOLUTION"
      }
     }
    }
   },
   "source": [
    "<button id=\"ulab-button-29be98dd\" class=\"ulab-btn--primary\"></button>"
   ]
  },
  {
   "cell_type": "markdown",
   "metadata": {
    "editable": false,
    "ulab": {
     "buttons": {
      "ulab-button-b3f3478d": {
       "bashCommand": "",
       "filesToOpen": [],
       "isPreviewButton": true,
       "runInBackground": false,
       "style": "primary",
       "text": "OPEN APP",
       "toggleOffText": "HIDE SOLUTION",
       "toggleOnText": "SHOW SOLUTION"
      }
     }
    }
   },
   "source": [
    "<button id=\"ulab-button-b3f3478d\" class=\"ulab-btn--primary\"></button>"
   ]
  },
  {
   "cell_type": "markdown",
   "metadata": {
    "editable": false
   },
   "source": [
    "<!--\n",
    "%%ulab_page_divider\n",
    "--><hr/>"
   ]
  },
  {
   "cell_type": "markdown",
   "metadata": {
    "editable": false
   },
   "source": [
    "### Uploading your own code\n",
    "\n",
    "You can also host your own application to complete this project. If you choose to do so, do the following:\n",
    "\n",
    "* Host your code on a GitHub Repository.\n",
    "* Connect your GitHub account to the workspace.\n",
    "* Clone locally the GitHub repo on the workspace.\n",
    "\n",
    "Alternatively, follow these steps to upload your code into the workspace:\n",
    "\n",
    "* Zip any folder you want to use as you cannot upload a complete folder into the workspace\n",
    "* Upload your Zip file and unzip it. You can use the `unzip <archivenamehere>` command.\n",
    "* Modify your `package.json` start command to reflect the one you see in the starter code. This will be necessary in order to connect to the preview.\n",
    "* Once you start your app from a CLI, click this open app button.\n",
    "\n",
    "**NB: You will need to list **`@angular/cli`** as a devDependency in your project if it's not already done. The angular will be needed in your pipeline eventually.**\n",
    "\n",
    "**Be sure to confirm that your project runs locally before you try to deploy the app.**"
   ]
  },
  {
   "cell_type": "markdown",
   "metadata": {
    "editable": false,
    "ulab": {
     "buttons": {
      "ulab-button-b3f3478d": {
       "bashCommand": "",
       "filesToOpen": [],
       "isPreviewButton": true,
       "runInBackground": false,
       "style": "primary",
       "text": "OPEN APP",
       "toggleOffText": "HIDE SOLUTION",
       "toggleOnText": "SHOW SOLUTION"
      }
     }
    }
   },
   "source": [
    "<button id=\"ulab-button-b3f3478d\" class=\"ulab-btn--primary\">OPEN APP</button>"
   ]
  }
 ],
 "metadata": {
  "kernelspec": {
   "display_name": "Python 3",
   "language": "python",
   "name": "python3"
  },
  "language_info": {
   "codemirror_mode": {
    "name": "ipython",
    "version": 3
   },
   "file_extension": ".py",
   "mimetype": "text/x-python",
   "name": "python",
   "nbconvert_exporter": "python",
   "pygments_lexer": "ipython3",
   "version": "3.6.3"
  },
  "ulab_nb_type": "guided"
 },
 "nbformat": 4,
 "nbformat_minor": 4
}
